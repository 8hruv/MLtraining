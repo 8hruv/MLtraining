{
  "nbformat": 4,
  "nbformat_minor": 0,
  "metadata": {
    "colab": {
      "name": "rnn.ipynb",
      "provenance": [],
      "collapsed_sections": []
    },
    "kernelspec": {
      "name": "python3",
      "display_name": "Python 3"
    }
  },
  "cells": [
    {
      "cell_type": "markdown",
      "metadata": {
        "id": "xpAuMVCwfWs8"
      },
      "source": [
        "# Recurrent Neural Network"
      ]
    },
    {
      "cell_type": "markdown",
      "metadata": {
        "id": "nxJfRe4bfYVA"
      },
      "source": [
        "## Part 1 - Data Preprocessing"
      ]
    },
    {
      "cell_type": "markdown",
      "metadata": {
        "id": "ir9zwETrfbrp"
      },
      "source": [
        "### Importing the libraries"
      ]
    },
    {
      "cell_type": "code",
      "metadata": {
        "id": "ZT1f24vHffuf"
      },
      "source": [
        "import numpy as np\n",
        "import matplotlib.pyplot as plt\n",
        "import pandas as pd"
      ],
      "execution_count": 1,
      "outputs": []
    },
    {
      "cell_type": "code",
      "source": [
        "from google.colab import drive\n",
        "drive.mount('/content/drive')"
      ],
      "metadata": {
        "colab": {
          "base_uri": "https://localhost:8080/"
        },
        "id": "1_kQfBTuEQXR",
        "outputId": "8b1145bb-5f44-40cd-c427-ee04bacabf7d"
      },
      "execution_count": 2,
      "outputs": [
        {
          "output_type": "stream",
          "name": "stdout",
          "text": [
            "Mounted at /content/drive\n"
          ]
        }
      ]
    },
    {
      "cell_type": "markdown",
      "metadata": {
        "id": "nQ47JAxrgmaL"
      },
      "source": [
        "### Importing the training set"
      ]
    },
    {
      "cell_type": "code",
      "metadata": {
        "id": "1xiv3pJOgqY3"
      },
      "source": [
        "dataset_train = pd.read_csv('/content/drive/MyDrive/Google_Stock_Price_Train.csv')\n",
        "training_set = dataset_train.iloc[:, 1:2].values"
      ],
      "execution_count": 11,
      "outputs": []
    },
    {
      "cell_type": "markdown",
      "metadata": {
        "id": "HT8_2UJegtG5"
      },
      "source": [
        "### Feature Scaling"
      ]
    },
    {
      "cell_type": "code",
      "metadata": {
        "id": "OTrF2kR7gx9x"
      },
      "source": [
        "from sklearn.preprocessing import MinMaxScaler\n",
        "sc = MinMaxScaler(feature_range = (0, 1))\n",
        "training_set_scaled = sc.fit_transform(training_set)"
      ],
      "execution_count": 12,
      "outputs": []
    },
    {
      "cell_type": "markdown",
      "metadata": {
        "id": "JyYgYocqhNUg"
      },
      "source": [
        "### Creating a data structure with 60 timesteps and 1 output"
      ]
    },
    {
      "cell_type": "code",
      "metadata": {
        "id": "iofU21B0i6ST"
      },
      "source": [
        "X_train = []\n",
        "y_train = []\n",
        "for i in range(60, 1258):\n",
        "    X_train.append(training_set_scaled[i-60:i, 0])\n",
        "    y_train.append(training_set_scaled[i, 0])\n",
        "X_train, y_train = np.array(X_train), np.array(y_train)"
      ],
      "execution_count": 13,
      "outputs": []
    },
    {
      "cell_type": "markdown",
      "metadata": {
        "id": "D8yaN7Zvi95l"
      },
      "source": [
        "### Reshaping"
      ]
    },
    {
      "cell_type": "code",
      "metadata": {
        "id": "FOXqJHmNjBkz"
      },
      "source": [
        "X_train = np.reshape(X_train, (X_train.shape[0], X_train.shape[1], 1))"
      ],
      "execution_count": 14,
      "outputs": []
    },
    {
      "cell_type": "markdown",
      "metadata": {
        "id": "ZRRSOJeVjEWV"
      },
      "source": [
        "## Part 2 - Building and Training the RNN"
      ]
    },
    {
      "cell_type": "markdown",
      "metadata": {
        "id": "k4XV88JMjHXG"
      },
      "source": [
        "### Importing the Keras libraries and packages"
      ]
    },
    {
      "cell_type": "code",
      "metadata": {
        "id": "9JRnqsxEjKsD"
      },
      "source": [
        "from keras.models import Sequential\n",
        "from keras.layers import Dense\n",
        "from keras.layers import LSTM\n",
        "from keras.layers import Dropout"
      ],
      "execution_count": 15,
      "outputs": []
    },
    {
      "cell_type": "markdown",
      "metadata": {
        "id": "FEIE-1s9jNzC"
      },
      "source": [
        "### Initialising the RNN"
      ]
    },
    {
      "cell_type": "code",
      "metadata": {
        "id": "1338dJ0UjRKH"
      },
      "source": [
        "regressor = Sequential()"
      ],
      "execution_count": 16,
      "outputs": []
    },
    {
      "cell_type": "markdown",
      "metadata": {
        "id": "62eg1OPGjT8z"
      },
      "source": [
        "### Adding the first LSTM layer and some Dropout regularisation"
      ]
    },
    {
      "cell_type": "code",
      "metadata": {
        "id": "2hIinyXUjbVU"
      },
      "source": [
        "regressor.add(LSTM(units = 50, return_sequences = True, input_shape = (X_train.shape[1], 1)))\n",
        "regressor.add(Dropout(0.2))"
      ],
      "execution_count": 17,
      "outputs": []
    },
    {
      "cell_type": "markdown",
      "metadata": {
        "id": "3XBIYLyOjlMx"
      },
      "source": [
        "### Adding a second LSTM layer and some Dropout regularisation"
      ]
    },
    {
      "cell_type": "code",
      "metadata": {
        "id": "UG7nrVaSjuZ2"
      },
      "source": [
        "regressor.add(LSTM(units = 50, return_sequences = True))\n",
        "regressor.add(Dropout(0.2))"
      ],
      "execution_count": 18,
      "outputs": []
    },
    {
      "cell_type": "markdown",
      "metadata": {
        "id": "Ey3fHVnGj1cu"
      },
      "source": [
        "### Adding a third LSTM layer and some Dropout regularisation"
      ]
    },
    {
      "cell_type": "code",
      "metadata": {
        "id": "PuNi6PgFj7jO"
      },
      "source": [
        "regressor.add(LSTM(units = 50, return_sequences = True))\n",
        "regressor.add(Dropout(0.2))"
      ],
      "execution_count": 19,
      "outputs": []
    },
    {
      "cell_type": "markdown",
      "metadata": {
        "id": "SYTrtfTmj933"
      },
      "source": [
        "### Adding a fourth LSTM layer and some Dropout regularisation"
      ]
    },
    {
      "cell_type": "code",
      "metadata": {
        "id": "Jp4Ty8fRkBYV"
      },
      "source": [
        "regressor.add(LSTM(units = 50))\n",
        "regressor.add(Dropout(0.2))"
      ],
      "execution_count": 20,
      "outputs": []
    },
    {
      "cell_type": "markdown",
      "metadata": {
        "id": "9ABI6rOIkHhk"
      },
      "source": [
        "### Adding the output layer"
      ]
    },
    {
      "cell_type": "code",
      "metadata": {
        "id": "aM6R1z4WkME8"
      },
      "source": [
        "regressor.add(Dense(units = 1))"
      ],
      "execution_count": 21,
      "outputs": []
    },
    {
      "cell_type": "markdown",
      "metadata": {
        "id": "zLx4K7uUkPSh"
      },
      "source": [
        "### Compiling the RNN"
      ]
    },
    {
      "cell_type": "code",
      "metadata": {
        "id": "XTrhVN-tkbko"
      },
      "source": [
        "regressor.compile(optimizer = 'adam', loss = 'mean_squared_error')"
      ],
      "execution_count": 22,
      "outputs": []
    },
    {
      "cell_type": "markdown",
      "metadata": {
        "id": "-mPhwKGkkebi"
      },
      "source": [
        "### Fitting the RNN to the Training set"
      ]
    },
    {
      "cell_type": "code",
      "metadata": {
        "id": "I06Nkrz5kkb-",
        "colab": {
          "base_uri": "https://localhost:8080/"
        },
        "outputId": "704ec98c-d0a0-4061-daea-a85364450fb8"
      },
      "source": [
        "regressor.fit(X_train, y_train, epochs = 100, batch_size = 32)"
      ],
      "execution_count": 23,
      "outputs": [
        {
          "output_type": "stream",
          "name": "stdout",
          "text": [
            "Epoch 1/100\n",
            "38/38 [==============================] - 12s 123ms/step - loss: 0.0407\n",
            "Epoch 2/100\n",
            "38/38 [==============================] - 5s 124ms/step - loss: 0.0065\n",
            "Epoch 3/100\n",
            "38/38 [==============================] - 5s 124ms/step - loss: 0.0055\n",
            "Epoch 4/100\n",
            "38/38 [==============================] - 5s 124ms/step - loss: 0.0054\n",
            "Epoch 5/100\n",
            "38/38 [==============================] - 5s 122ms/step - loss: 0.0048\n",
            "Epoch 6/100\n",
            "38/38 [==============================] - 5s 124ms/step - loss: 0.0047\n",
            "Epoch 7/100\n",
            "38/38 [==============================] - 5s 122ms/step - loss: 0.0044\n",
            "Epoch 8/100\n",
            "38/38 [==============================] - 5s 122ms/step - loss: 0.0043\n",
            "Epoch 9/100\n",
            "38/38 [==============================] - 5s 124ms/step - loss: 0.0050\n",
            "Epoch 10/100\n",
            "38/38 [==============================] - 5s 122ms/step - loss: 0.0044\n",
            "Epoch 11/100\n",
            "38/38 [==============================] - 5s 124ms/step - loss: 0.0044\n",
            "Epoch 12/100\n",
            "38/38 [==============================] - 6s 156ms/step - loss: 0.0039\n",
            "Epoch 13/100\n",
            "38/38 [==============================] - 5s 123ms/step - loss: 0.0040\n",
            "Epoch 14/100\n",
            "38/38 [==============================] - 5s 124ms/step - loss: 0.0038\n",
            "Epoch 15/100\n",
            "38/38 [==============================] - 5s 124ms/step - loss: 0.0038\n",
            "Epoch 16/100\n",
            "38/38 [==============================] - 5s 123ms/step - loss: 0.0037\n",
            "Epoch 17/100\n",
            "38/38 [==============================] - 5s 126ms/step - loss: 0.0041\n",
            "Epoch 18/100\n",
            "38/38 [==============================] - 5s 123ms/step - loss: 0.0039\n",
            "Epoch 19/100\n",
            "38/38 [==============================] - 5s 124ms/step - loss: 0.0036\n",
            "Epoch 20/100\n",
            "38/38 [==============================] - 5s 123ms/step - loss: 0.0035\n",
            "Epoch 21/100\n",
            "38/38 [==============================] - 6s 146ms/step - loss: 0.0035\n",
            "Epoch 22/100\n",
            "38/38 [==============================] - 5s 142ms/step - loss: 0.0031\n",
            "Epoch 23/100\n",
            "38/38 [==============================] - 5s 124ms/step - loss: 0.0039\n",
            "Epoch 24/100\n",
            "38/38 [==============================] - 5s 123ms/step - loss: 0.0032\n",
            "Epoch 25/100\n",
            "38/38 [==============================] - 5s 122ms/step - loss: 0.0030\n",
            "Epoch 26/100\n",
            "38/38 [==============================] - 5s 125ms/step - loss: 0.0031\n",
            "Epoch 27/100\n",
            "38/38 [==============================] - 5s 124ms/step - loss: 0.0030\n",
            "Epoch 28/100\n",
            "38/38 [==============================] - 5s 124ms/step - loss: 0.0031\n",
            "Epoch 29/100\n",
            "38/38 [==============================] - 5s 124ms/step - loss: 0.0028\n",
            "Epoch 30/100\n",
            "38/38 [==============================] - 5s 123ms/step - loss: 0.0033\n",
            "Epoch 31/100\n",
            "38/38 [==============================] - 5s 125ms/step - loss: 0.0028\n",
            "Epoch 32/100\n",
            "38/38 [==============================] - 5s 124ms/step - loss: 0.0029\n",
            "Epoch 33/100\n",
            "38/38 [==============================] - 5s 123ms/step - loss: 0.0027\n",
            "Epoch 34/100\n",
            "38/38 [==============================] - 5s 123ms/step - loss: 0.0029\n",
            "Epoch 35/100\n",
            "38/38 [==============================] - 5s 124ms/step - loss: 0.0025\n",
            "Epoch 36/100\n",
            "38/38 [==============================] - 5s 122ms/step - loss: 0.0029\n",
            "Epoch 37/100\n",
            "38/38 [==============================] - 5s 124ms/step - loss: 0.0027\n",
            "Epoch 38/100\n",
            "38/38 [==============================] - 5s 123ms/step - loss: 0.0025\n",
            "Epoch 39/100\n",
            "38/38 [==============================] - 5s 124ms/step - loss: 0.0027\n",
            "Epoch 40/100\n",
            "38/38 [==============================] - 5s 124ms/step - loss: 0.0027\n",
            "Epoch 41/100\n",
            "38/38 [==============================] - 5s 124ms/step - loss: 0.0028\n",
            "Epoch 42/100\n",
            "38/38 [==============================] - 5s 129ms/step - loss: 0.0026\n",
            "Epoch 43/100\n",
            "38/38 [==============================] - 5s 123ms/step - loss: 0.0027\n",
            "Epoch 44/100\n",
            "38/38 [==============================] - 5s 124ms/step - loss: 0.0028\n",
            "Epoch 45/100\n",
            "38/38 [==============================] - 5s 123ms/step - loss: 0.0026\n",
            "Epoch 46/100\n",
            "38/38 [==============================] - 5s 125ms/step - loss: 0.0026\n",
            "Epoch 47/100\n",
            "38/38 [==============================] - 5s 123ms/step - loss: 0.0024\n",
            "Epoch 48/100\n",
            "38/38 [==============================] - 5s 125ms/step - loss: 0.0026\n",
            "Epoch 49/100\n",
            "38/38 [==============================] - 5s 124ms/step - loss: 0.0026\n",
            "Epoch 50/100\n",
            "38/38 [==============================] - 5s 123ms/step - loss: 0.0024\n",
            "Epoch 51/100\n",
            "38/38 [==============================] - 5s 123ms/step - loss: 0.0022\n",
            "Epoch 52/100\n",
            "38/38 [==============================] - 5s 124ms/step - loss: 0.0024\n",
            "Epoch 53/100\n",
            "38/38 [==============================] - 5s 125ms/step - loss: 0.0022\n",
            "Epoch 54/100\n",
            "38/38 [==============================] - 5s 122ms/step - loss: 0.0024\n",
            "Epoch 55/100\n",
            "38/38 [==============================] - 5s 123ms/step - loss: 0.0025\n",
            "Epoch 56/100\n",
            "38/38 [==============================] - 5s 122ms/step - loss: 0.0022\n",
            "Epoch 57/100\n",
            "38/38 [==============================] - 5s 122ms/step - loss: 0.0022\n",
            "Epoch 58/100\n",
            "38/38 [==============================] - 5s 120ms/step - loss: 0.0020\n",
            "Epoch 59/100\n",
            "38/38 [==============================] - 5s 121ms/step - loss: 0.0020\n",
            "Epoch 60/100\n",
            "38/38 [==============================] - 5s 122ms/step - loss: 0.0022\n",
            "Epoch 61/100\n",
            "38/38 [==============================] - 5s 123ms/step - loss: 0.0022\n",
            "Epoch 62/100\n",
            "38/38 [==============================] - 5s 125ms/step - loss: 0.0021\n",
            "Epoch 63/100\n",
            "38/38 [==============================] - 5s 121ms/step - loss: 0.0021\n",
            "Epoch 64/100\n",
            "38/38 [==============================] - 5s 122ms/step - loss: 0.0021\n",
            "Epoch 65/100\n",
            "38/38 [==============================] - 5s 121ms/step - loss: 0.0020\n",
            "Epoch 66/100\n",
            "38/38 [==============================] - 5s 124ms/step - loss: 0.0019\n",
            "Epoch 67/100\n",
            "38/38 [==============================] - 5s 120ms/step - loss: 0.0022\n",
            "Epoch 68/100\n",
            "38/38 [==============================] - 5s 122ms/step - loss: 0.0024\n",
            "Epoch 69/100\n",
            "38/38 [==============================] - 5s 121ms/step - loss: 0.0021\n",
            "Epoch 70/100\n",
            "38/38 [==============================] - 5s 122ms/step - loss: 0.0018\n",
            "Epoch 71/100\n",
            "38/38 [==============================] - 5s 123ms/step - loss: 0.0019\n",
            "Epoch 72/100\n",
            "38/38 [==============================] - 5s 122ms/step - loss: 0.0017\n",
            "Epoch 73/100\n",
            "38/38 [==============================] - 5s 125ms/step - loss: 0.0017\n",
            "Epoch 74/100\n",
            "38/38 [==============================] - 5s 133ms/step - loss: 0.0019\n",
            "Epoch 75/100\n",
            "38/38 [==============================] - 6s 152ms/step - loss: 0.0017\n",
            "Epoch 76/100\n",
            "38/38 [==============================] - 5s 123ms/step - loss: 0.0017\n",
            "Epoch 77/100\n",
            "38/38 [==============================] - 5s 123ms/step - loss: 0.0017\n",
            "Epoch 78/100\n",
            "38/38 [==============================] - 5s 124ms/step - loss: 0.0016\n",
            "Epoch 79/100\n",
            "38/38 [==============================] - 5s 124ms/step - loss: 0.0018\n",
            "Epoch 80/100\n",
            "38/38 [==============================] - 5s 124ms/step - loss: 0.0017\n",
            "Epoch 81/100\n",
            "38/38 [==============================] - 5s 125ms/step - loss: 0.0015\n",
            "Epoch 82/100\n",
            "38/38 [==============================] - 5s 123ms/step - loss: 0.0017\n",
            "Epoch 83/100\n",
            "38/38 [==============================] - 5s 123ms/step - loss: 0.0017\n",
            "Epoch 84/100\n",
            "38/38 [==============================] - 5s 124ms/step - loss: 0.0017\n",
            "Epoch 85/100\n",
            "38/38 [==============================] - 5s 124ms/step - loss: 0.0015\n",
            "Epoch 86/100\n",
            "38/38 [==============================] - 5s 123ms/step - loss: 0.0017\n",
            "Epoch 87/100\n",
            "38/38 [==============================] - 5s 124ms/step - loss: 0.0016\n",
            "Epoch 88/100\n",
            "38/38 [==============================] - 5s 123ms/step - loss: 0.0018\n",
            "Epoch 89/100\n",
            "38/38 [==============================] - 5s 124ms/step - loss: 0.0016\n",
            "Epoch 90/100\n",
            "38/38 [==============================] - 5s 124ms/step - loss: 0.0016\n",
            "Epoch 91/100\n",
            "38/38 [==============================] - 5s 125ms/step - loss: 0.0015\n",
            "Epoch 92/100\n",
            "38/38 [==============================] - 5s 124ms/step - loss: 0.0016\n",
            "Epoch 93/100\n",
            "38/38 [==============================] - 5s 125ms/step - loss: 0.0015\n",
            "Epoch 94/100\n",
            "38/38 [==============================] - 5s 124ms/step - loss: 0.0014\n",
            "Epoch 95/100\n",
            "38/38 [==============================] - 5s 124ms/step - loss: 0.0016\n",
            "Epoch 96/100\n",
            "38/38 [==============================] - 5s 124ms/step - loss: 0.0014\n",
            "Epoch 97/100\n",
            "38/38 [==============================] - 5s 123ms/step - loss: 0.0016\n",
            "Epoch 98/100\n",
            "38/38 [==============================] - 5s 123ms/step - loss: 0.0014\n",
            "Epoch 99/100\n",
            "38/38 [==============================] - 5s 126ms/step - loss: 0.0015\n",
            "Epoch 100/100\n",
            "38/38 [==============================] - 5s 125ms/step - loss: 0.0016\n"
          ]
        },
        {
          "output_type": "execute_result",
          "data": {
            "text/plain": [
              "<keras.callbacks.History at 0x7f5074bf0c90>"
            ]
          },
          "metadata": {},
          "execution_count": 23
        }
      ]
    },
    {
      "cell_type": "markdown",
      "metadata": {
        "id": "4hRau_lIkrE8"
      },
      "source": [
        "## Part 3 - Making the predictions and visualising the results"
      ]
    },
    {
      "cell_type": "markdown",
      "metadata": {
        "id": "SgJO6qEDksxD"
      },
      "source": [
        "### Getting the real stock price of 2017"
      ]
    },
    {
      "cell_type": "code",
      "metadata": {
        "id": "FmBT2zqukxTz"
      },
      "source": [
        "dataset_test = pd.read_csv('/content/drive/MyDrive/Google_Stock_Price_Test.csv')\n",
        "real_stock_price = dataset_test.iloc[:, 1:2].values"
      ],
      "execution_count": 24,
      "outputs": []
    },
    {
      "cell_type": "markdown",
      "metadata": {
        "id": "GrvrLblxkz42"
      },
      "source": [
        "### Getting the predicted stock price of 2017"
      ]
    },
    {
      "cell_type": "code",
      "metadata": {
        "id": "emikTvUpk3Ck"
      },
      "source": [
        "dataset_total = pd.concat((dataset_train['Open'], dataset_test['Open']), axis = 0)\n",
        "inputs = dataset_total[len(dataset_total) - len(dataset_test) - 60:].values\n",
        "inputs = inputs.reshape(-1,1)\n",
        "inputs = sc.transform(inputs)\n",
        "X_test = []\n",
        "for i in range(60, 80):\n",
        "    X_test.append(inputs[i-60:i, 0])\n",
        "X_test = np.array(X_test)\n",
        "X_test = np.reshape(X_test, (X_test.shape[0], X_test.shape[1], 1))\n",
        "predicted_stock_price = regressor.predict(X_test)\n",
        "predicted_stock_price = sc.inverse_transform(predicted_stock_price)"
      ],
      "execution_count": 25,
      "outputs": []
    },
    {
      "cell_type": "markdown",
      "metadata": {
        "id": "iFTNs3YHk6FQ"
      },
      "source": [
        "### Visualising the results"
      ]
    },
    {
      "cell_type": "code",
      "metadata": {
        "id": "8OUI8U49k9tH",
        "colab": {
          "base_uri": "https://localhost:8080/",
          "height": 295
        },
        "outputId": "011c4d0b-91a1-49fe-98e9-5f23640a4012"
      },
      "source": [
        "plt.plot(real_stock_price, color = 'red', label = 'Real Google Stock Price')\n",
        "plt.plot(predicted_stock_price, color = 'blue', label = 'Predicted Google Stock Price')\n",
        "plt.title('Google Stock Price Prediction')\n",
        "plt.xlabel('Time')\n",
        "plt.ylabel('Google Stock Price')\n",
        "plt.legend()\n",
        "plt.show()"
      ],
      "execution_count": 26,
      "outputs": [
        {
          "output_type": "display_data",
          "data": {
            "text/plain": [
              "<Figure size 432x288 with 1 Axes>"
            ],
            "image/png": "[encoded data removed]"
          },
          "metadata": {
            "needs_background": "light"
          }
        }
      ]
    }
  ]
}